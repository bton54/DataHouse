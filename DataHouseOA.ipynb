{
 "cells": [
  {
   "cell_type": "code",
   "execution_count": 5,
   "metadata": {},
   "outputs": [
    {
     "name": "stdout",
     "output_type": "stream",
     "text": [
      "View new file titled applicant_scores.json in directory!\n"
     ]
    }
   ],
   "source": [
    "# # Brian Ton\n",
    "# # 1/26/2024\n",
    "\n",
    "# # DataHouse OA\n",
    "\n",
    "import json\n",
    "\n",
    "# Function to read + parse JSONs\n",
    "def read_json_file(file_path):\n",
    "    with open(file_path, 'r') as file:\n",
    "        data = json.load(file)\n",
    "    return data\n",
    "\n",
    "# Function to calc cumulative score for an applicant\n",
    "def calculate_cumulative_score(attributes, weights):\n",
    "    return sum(attributes.get(key, 0) * weight for key, weight in weights.items())\n",
    "\n",
    "# Function to process JSON and yield applicant scores\n",
    "def process_applicants(file_path, weights):\n",
    "    # Load JSON \n",
    "    data = read_json_file(file_path)\n",
    "\n",
    "    # Create the dictionary to store scores\n",
    "    applicant_scores = {\"Applicant Scores\": {}}\n",
    "\n",
    "    # Process each applicant and calc their cumulative score\n",
    "    for applicant in data['applicants']:\n",
    "        name = applicant['name']\n",
    "        attributes = applicant['attributes']\n",
    "        cumulative_score = calculate_cumulative_score(attributes, weights)\n",
    "        applicant_scores[\"Applicant Scores\"][name] = cumulative_score\n",
    "\n",
    "    return applicant_scores\n",
    "\n",
    "# Func to write a dict to JSON \n",
    "def write_json_file(data, file_path):\n",
    "    with open(file_path, 'w') as file:\n",
    "        json.dump(data, file, indent=4)\n",
    "\n",
    "# Define attribute weights\n",
    "    # weights = {\n",
    "    #     'intelligence': 0.6 * 0.1, \n",
    "    #     'strength': 0.15 * 0.1,\n",
    "    #     'endurance': 0.2 * 0.1,\n",
    "    #     'spicyFoodTolerance': 0.05 * 0.1\n",
    "    # }\n",
    "\n",
    "weights = {\n",
    "    'spicyFoodTolerance': 0.4 * .1,  # 40% for direct relevance to capsaicin research\n",
    "    'intelligence': 0.3 * .1,        # 30% for research and data analysis skills\n",
    "    'endurance': 0.2 * .1,           # 20% for sustained effort and long research hours\n",
    "    'strength': 0.1 * .1             # 10% for practical and physical aspects of the job\n",
    "}\n",
    "\n",
    "\n",
    "# --------\n",
    "\n",
    "\n",
    "# File paths\n",
    "input_file_path = 'applicants.json' \n",
    "output_file_path = 'applicant_scores.json'\n",
    "\n",
    "# Process the applicants and get their scores\n",
    "applicant_scores = process_applicants(input_file_path, weights)\n",
    "\n",
    "# Load app_scores onto readable new JSON\n",
    "write_json_file(applicant_scores, output_file_path)\n",
    "print(\"View new file titled applicant_scores.json in directory!\")"
   ]
  }
 ],
 "metadata": {
  "kernelspec": {
   "display_name": "Python 3.9.15 ('16A')",
   "language": "python",
   "name": "python3"
  },
  "language_info": {
   "codemirror_mode": {
    "name": "ipython",
    "version": 3
   },
   "file_extension": ".py",
   "mimetype": "text/x-python",
   "name": "python",
   "nbconvert_exporter": "python",
   "pygments_lexer": "ipython3",
   "version": "3.9.15"
  },
  "orig_nbformat": 4,
  "vscode": {
   "interpreter": {
    "hash": "e96b38b53f0adf72220785dd47f11cec13e6dab0af3ca560bf5fe4cd9f485bea"
   }
  }
 },
 "nbformat": 4,
 "nbformat_minor": 2
}
